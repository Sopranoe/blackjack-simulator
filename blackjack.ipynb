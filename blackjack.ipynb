{
 "cells": [
  {
   "cell_type": "markdown",
   "metadata": {},
   "source": [
    "# Blackjack\n",
    "\n",
    "## Blackjack game with the following features:\n",
    "* Shuffle a deck of cards\n",
    "* Draw top card\n",
    "* Calculate card values\n",
    "* Detect blackjack\n",
    "* Detect winner\n",
    "* Draw cards for player and dealer\n",
    "* Allow player to choose next action: hit,  stand\n",
    "* Dealer AI\n",
    "\n",
    "## Additional Features:\n",
    "* Shuffle multiple decks of cards\n",
    "* Add additional players\n",
    "* Allow player to double or split\n",
    "* Add chips balance, betting and payout\n",
    "\n",
    "## Advanced Features:\n",
    "* Add AI players\n",
    "* Run simulations with detailed results\n",
    "* collect, analyze and visualize data\n",
    "* implement card counting AI\n",
    "* compare different methods and setups"
   ]
  },
  {
   "cell_type": "code",
   "execution_count": 1,
   "metadata": {},
   "outputs": [],
   "source": [
    "class Player:\n",
    "    variable = \"blah\"\n",
    "    def __init__(self):\n",
    "        self.hand = []\n",
    "        self.points = 0\n",
    "        self.ace = False\n",
    "        self.ten = False\n",
    "        self.status = 'alive' # 'alive', 'bust', 'stand', 'blackjack' \n",
    "\n",
    "    def update_points(self):\n",
    "        return self.calculate_points()\n",
    "\n",
    "    def calculate_points(self):\n",
    "        values = {\"A\": 1, \"2\": 2, \"3\": 3, \"4\": 4, \"5\": 5, \"6\": 6, \"7\": 7, \"8\": 8, \n",
    "                    \"9\": 9, \"T\": 10, \"J\": 10, \"Q\": 10, \"K\": 10} # A = 1 or 11\n",
    "        hand_values = []\n",
    "        card_ranks = [rank[0] for rank in self.hand]\n",
    "\n",
    "        for rank in card_ranks:\n",
    "            val = values.get(rank)\n",
    "            if val==1:\n",
    "                self.ace = True\n",
    "            elif val==10:\n",
    "                self.ten = True\n",
    "            hand_values.append(val)\n",
    "        self.points = sum(hand_values)\n",
    "\n",
    "        if self.ace and self.points > 21:\n",
    "            self.points = self.points - 10\n",
    "\n",
    "    def update_status(self):\n",
    "        if self.points == 21:\n",
    "            if len(self.hand) == 2:\n",
    "                self.status = 'blackjack'\n",
    "            else: \n",
    "                self.status = 'stand'\n",
    "        elif self.points > 21:\n",
    "            self.status = 'bust'\n",
    "        else:\n",
    "            self.status = 'alive'\n",
    "\n",
    "    def draw(self, deck):\n",
    "        self.hand.append(deck.pop())\n",
    "        self.update_points()\n",
    "        print(\"The deck has been shuffled. You receive a \" + '-'.join(self.hand))\n",
    "        print(\"That's \" + str(self.points))\n",
    "        self.update_status()"
   ]
  },
  {
   "cell_type": "code",
   "execution_count": 2,
   "metadata": {},
   "outputs": [],
   "source": [
    "class Dealer(Player):\n",
    "    def __init__(self):\n",
    "        super().__init__()\n",
    "        self.upcard = ''\n",
    "    \n",
    "    def update_points(self):\n",
    "        self.upcard = self.hand[0]\n",
    "        return self.calculate_points()"
   ]
  },
  {
   "cell_type": "code",
   "execution_count": 3,
   "metadata": {},
   "outputs": [],
   "source": [
    "from random import shuffle\n",
    "\n",
    "class Deck:\n",
    "    single_deck = [\"Ac\", \"2c\", \"3c\", \"4c\", \"5c\", \"6c\", \"7c\", \"8c\", \"9c\", \"Tc\", \"Jc\", \"Qc\", \"Kc\",\n",
    "            \"Ad\", \"2d\", \"3d\", \"4d\", \"5d\", \"6d\", \"7d\", \"8d\", \"9d\", \"Td\", \"Jd\", \"Qd\", \"Kd\",\n",
    "            \"Ah\", \"2h\", \"3h\", \"4h\", \"5h\", \"6h\", \"7h\", \"8h\", \"9h\", \"Th\", \"Jh\", \"Qh\", \"Kh\",\n",
    "            \"As\", \"2s\", \"3s\", \"4s\", \"5s\", \"6s\", \"7s\", \"8s\", \"9s\", \"Ts\", \"Js\", \"Qs\", \"Ks\"]\n",
    "    \n",
    "    def __init__(self, deck_count=4):\n",
    "        self.game_deck = self.single_deck*deck_count\n",
    "        shuffle(self.game_deck)\n",
    "\n",
    "    def reshuffle(self, deck_count=4):\n",
    "        self.game_deck = self.single_deck*deck_count\n",
    "        shuffle(self.game_deck)"
   ]
  },
  {
   "cell_type": "code",
   "execution_count": 4,
   "metadata": {},
   "outputs": [],
   "source": [
    "#class "
   ]
  },
  {
   "cell_type": "code",
   "execution_count": 5,
   "metadata": {},
   "outputs": [],
   "source": [
    "deck = Deck()\n",
    "player1 = Player()\n",
    "dealer = Dealer()"
   ]
  },
  {
   "cell_type": "code",
   "execution_count": 6,
   "metadata": {},
   "outputs": [
    {
     "name": "stdout",
     "output_type": "stream",
     "text": "The deck has been shuffled. You receive a 2d\nThat's 2\nThe deck has been shuffled. You receive a 3c\nThat's 3\nThe deck has been shuffled. You receive a 2d-5c\nThat's 7\nThe deck has been shuffled. You receive a 2d-5c-Kc\nThat's 17\nThe deck has been shuffled. You receive a 2d-5c-Kc-Jh\nThat's 27\nyou busted with 2d-5c-Kc-Jh and 27 points\nDealer's Turn\n"
    }
   ],
   "source": [
    "deck_count = input(\"Welcome to Blackjack. How many decks should we use?\")\n",
    "game_deck = Deck(int(deck_count))\n",
    "player1.draw(game_deck.game_deck)\n",
    "dealer.draw(game_deck.game_deck)\n",
    "while player1.points < 21:  \n",
    "    action = input(\"Would you like to hit (h) or stand (s)\")\n",
    "    if action == 'h':\n",
    "        player1.draw(game_deck.game_deck)\n",
    "    elif action == 's':\n",
    "        break\n",
    "    else:\n",
    "        print(\"Wrong key entered.\")\n",
    "if player1.points == 21:\n",
    "    print(\"21 points!\")\n",
    "elif player1.points > 21:\n",
    "    print(\"you busted with \" + '-'.join(player1.hand) + \" and \" + str(player1.points) + \" points\")\n",
    "else:\n",
    "    print(\"You stand with \" + '-'.join(player1.hand) + \" and \" + str(player1.points) + \" points\")\n",
    "\n",
    "print(\"Dealer's Turn\")"
   ]
  },
  {
   "cell_type": "code",
   "execution_count": null,
   "metadata": {},
   "outputs": [],
   "source": []
  }
 ],
 "metadata": {
  "file_extension": ".py",
  "kernelspec": {
   "display_name": "Python 3.8.1 64-bit ('programming': conda)",
   "language": "python",
   "name": "python38164bitprogrammingconda7e19e4ca340543f3a556b450e6bed4aa"
  },
  "language_info": {
   "codemirror_mode": {
    "name": "ipython",
    "version": 3
   },
   "file_extension": ".py",
   "mimetype": "text/x-python",
   "name": "python",
   "nbconvert_exporter": "python",
   "pygments_lexer": "ipython3",
   "version": "3.8.1-final"
  },
  "mimetype": "text/x-python",
  "name": "python",
  "npconvert_exporter": "python",
  "pygments_lexer": "ipython3",
  "version": 3
 },
 "nbformat": 4,
 "nbformat_minor": 2
}