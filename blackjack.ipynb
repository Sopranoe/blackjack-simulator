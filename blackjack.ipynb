{
 "nbformat": 4,
 "nbformat_minor": 2,
 "metadata": {
  "language_info": {
   "name": "python",
   "codemirror_mode": {
    "name": "ipython",
    "version": 3
   },
   "version": "3.8.1-final"
  },
  "orig_nbformat": 2,
  "file_extension": ".py",
  "mimetype": "text/x-python",
  "name": "python",
  "npconvert_exporter": "python",
  "pygments_lexer": "ipython3",
  "version": 3,
  "kernelspec": {
   "name": "python38164bitprogrammingconda7e19e4ca340543f3a556b450e6bed4aa",
   "display_name": "Python 3.8.1 64-bit ('programming': conda)"
  }
 },
 "cells": [
  {
   "cell_type": "markdown",
   "metadata": {},
   "source": [
    "# Blackjack\n",
    "\n",
    "## Blackjack game with the following features:\n",
    "* Shuffle a deck of cards\n",
    "* Draw top card\n",
    "* Calculate card values\n",
    "* Detect blackjack\n",
    "* Detect winner\n",
    "* Draw cards for player and dealer\n",
    "* Allow player to choose next action: hit,  stand\n",
    "* Dealer AI\n",
    "\n",
    "## Additional Features:\n",
    "* Shuffle multiple decks of cards\n",
    "* Add additional players\n",
    "* Allow player to double or split\n",
    "* Add chips balance, betting and payout\n",
    "\n",
    "## Advanced Features:\n",
    "* Add AI players\n",
    "* Run simulations with detailed results\n",
    "* collect, analyze and visualize data\n",
    "* implement card counting AI\n",
    "* compare different methods and setups"
   ]
  },
  {
   "cell_type": "code",
   "execution_count": 8,
   "metadata": {},
   "outputs": [],
   "source": [
    "deck = [\"Ac\", \"2c\", \"3c\", \"4c\", \"5c\", \"6c\", \"7c\", \"8c\", \"9c\", \"Tc\", \"Jc\", \"Qc\", \"Kc\",\n",
    "        \"Ad\", \"2d\", \"3d\", \"4d\", \"5d\", \"6d\", \"7d\", \"8d\", \"9d\", \"Td\", \"Jd\", \"Qd\", \"Kd\",\n",
    "        \"Ah\", \"2h\", \"3h\", \"4h\", \"5h\", \"6h\", \"7h\", \"8h\", \"9h\", \"Th\", \"Jh\", \"Qh\", \"Kh\",\n",
    "        \"As\", \"2s\", \"3s\", \"4s\", \"5s\", \"6s\", \"7s\", \"8s\", \"9s\", \"Ts\", \"Js\", \"Qs\", \"Ks\"]\n",
    "deck_count = 1\n",
    "deck = deck*deck_count"
   ]
  },
  {
   "cell_type": "code",
   "execution_count": 194,
   "metadata": {},
   "outputs": [],
   "source": [
    "def hand_value(hand):\n",
    "    values = {\"A\": 1, \"2\": 2, \"3\": 3, \"4\": 4, \"5\": 5, \"6\": 6, \"7\": 7, \"8\": 8, \"9\": 9, \"T\": 10, \"J\": 10, \"Q\": 10, \"K\": 10} # A = 1 or 11...\n",
    "    hand_values = []\n",
    "    ace = False\n",
    "    ten = False\n",
    "    cardranks = [rank[0] for rank in hand] #List Comprehension\n",
    "    for rank in cardranks:\n",
    "        val = values.get(rank)\n",
    "        if val==1:\n",
    "            ace = True\n",
    "        elif val==10:\n",
    "            ten = True\n",
    "        hand_values.append(val)\n",
    "    return sum(hand_values), ace, ten"
   ]
  },
  {
   "cell_type": "code",
   "execution_count": 195,
   "metadata": {},
   "outputs": [],
   "source": [
    "player = []\n",
    "dealer = []"
   ]
  },
  {
   "cell_type": "code",
   "execution_count": 196,
   "metadata": {},
   "outputs": [
    {
     "name": "stdout",
     "output_type": "stream",
     "text": "['Ad', '4c', '2c', 'Th', '8c', 'Qh', '8s', '2d', 'Ah', '7h', '7s', '6h', '7d', '9d', '4h', '9h', '9c', 'Ac', '6d', '9s', '6c', 'Kc', 'Jd', 'Jh', 'As', 'Qd', '3h', '3s', '7c', '5h', '2h', 'Js', 'Kd', '5d', 'Kh', 'Tc', '6s', 'Ts', 'Td', '5c', '2s', '4s', '5s', 'Qs', 'Qc', '3d', '3c', 'Jc', '4d', '8d', '8h', 'Ks']\n"
    }
   ],
   "source": [
    "from random import shuffle\n",
    "shuffle(deck)\n",
    "print(deck)"
   ]
  },
  {
   "cell_type": "code",
   "execution_count": 246,
   "metadata": {},
   "outputs": [],
   "source": [
    "player.append(deck.pop())\n",
    "dealer.append(deck.pop())"
   ]
  },
  {
   "cell_type": "code",
   "execution_count": 247,
   "metadata": {},
   "outputs": [
    {
     "name": "stdout",
     "output_type": "stream",
     "text": "['Ks', '8d', 'Jc', '3d', 'Qs', '4s', '5c', 'Ts', 'Tc', '5d', 'Js', '5h', '3s', 'Qd', 'Jh', 'Kc', '9s', 'Ac']\n(133, True, True)\n"
    }
   ],
   "source": [
    "print(player)\n",
    "print(hand_value(player))"
   ]
  },
  {
   "cell_type": "code",
   "execution_count": 248,
   "metadata": {},
   "outputs": [
    {
     "name": "stdout",
     "output_type": "stream",
     "text": "['8h', '4d', '3c', 'Qc', '5s', '2s', 'Td', '6s', 'Kh', 'Kd', '2h', '7c', '3h', 'As', 'Jd', '6c', '6d', '9c']\n(112, True, True)\n"
    }
   ],
   "source": [
    "print(dealer)\n",
    "print(hand_value(dealer))"
   ]
  },
  {
   "cell_type": "code",
   "execution_count": null,
   "metadata": {},
   "outputs": [],
   "source": []
  }
 ]
}